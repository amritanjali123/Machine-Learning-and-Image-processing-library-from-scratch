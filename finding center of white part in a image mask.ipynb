{
 "cells": [
  {
   "cell_type": "code",
   "execution_count": null,
   "metadata": {},
   "outputs": [],
   "source": []
  },
  {
   "cell_type": "code",
   "execution_count": 2,
   "metadata": {},
   "outputs": [],
   "source": [
    "import numpy as np\n",
    "from PIL import Image\n",
    "import PIL\n",
    "import cv2\n",
    "import numpy as np"
   ]
  },
  {
   "cell_type": "code",
   "execution_count": 3,
   "metadata": {},
   "outputs": [
    {
     "name": "stdout",
     "output_type": "stream",
     "text": [
      "(256, 256, 1)\n",
      "float64\n"
     ]
    }
   ],
   "source": [
    "p='write path'\n",
    "x = cv2.imread(p, cv2.IMREAD_GRAYSCALE)\n",
    "x = cv2.resize(x, (256, 256))\n",
    "x = x/255.0\n",
    "x = np.expand_dims(x, axis=-1)\n",
    "print(x.shape)\n",
    "print(x.dtype)\n"
   ]
  },
  {
   "cell_type": "code",
   "execution_count": 6,
   "metadata": {},
   "outputs": [
    {
     "name": "stdout",
     "output_type": "stream",
     "text": [
      "(256, 256, 1)\n"
     ]
    },
    {
     "data": {
      "text/plain": [
       "<matplotlib.image.AxesImage at 0x1d9ed8f6e10>"
      ]
     },
     "execution_count": 6,
     "metadata": {},
     "output_type": "execute_result"
    },
    {
     "data": {
      "image/png": "[encoded data removed]",
      "text/plain": [
       "<Figure size 432x288 with 1 Axes>"
      ]
     },
     "metadata": {},
     "output_type": "display_data"
    }
   ],
   "source": [
    "from matplotlib.pyplot import imshow, figure\n",
    "x=np.array(x)\n",
    "print(x.shape)\n",
    "figure()\n",
    "imag=x[:,:,0];\n",
    "imshow(imag[:,:],cmap='gray')"
   ]
  },
  {
   "cell_type": "markdown",
   "metadata": {},
   "source": [
    "here I am considering image as a graph and applying dfs,each connected component is concider as a seperate mask and printing the center of that connected component which center of that mask \n"
   ]
  },
  {
   "cell_type": "code",
   "execution_count": 9,
   "metadata": {},
   "outputs": [],
   "source": [
    "#x2 contains image \n",
    "def dfs(i,j):\n",
    "    global x1\n",
    "    global y1\n",
    "    global n1\n",
    "    x1=x1+i\n",
    "    y1=y1+j\n",
    "    n1=n1+1\n",
    "    vis[i][j]=-1\n",
    "    if(imag[i+1][j]>0.5 and vis[i+1][j]!=-1 and i+1<256):  \n",
    "        dfs(i+1,j)\n",
    "    if(imag[i][j+1]>0.5and vis[i][j+1]!=-1 and j+1<256):\n",
    "        dfs(i,j+1)    \n",
    "        "
   ]
  },
  {
   "cell_type": "code",
   "execution_count": 11,
   "metadata": {},
   "outputs": [
    {
     "name": "stdout",
     "output_type": "stream",
     "text": [
      "center of each mask\n",
      "166.6726457399103 94.67264573991031\n",
      "191.94736842105263 171.97368421052633\n"
     ]
    }
   ],
   "source": [
    "global x1\n",
    "global y1\n",
    "global n1\n",
    "#vis is just to track visited part\n",
    "vis=np.zeros((256,256))\n",
    "print(\"center of each mask\")\n",
    "#this will print the co_ordinate of core or delta\n",
    "for i in range(256):\n",
    "    for j in range(256):\n",
    "        x1=0\n",
    "        y1=0\n",
    "        n1=0\n",
    "        if(x2[i][j]>0.5 and vis[i][j]==0):\n",
    "            dfs(i,j)\n",
    "           \n",
    "            print(x1/n1,end=\" \")  \n",
    "            print(y1/n1)\n",
    "            "
   ]
  },
  {
   "cell_type": "code",
   "execution_count": null,
   "metadata": {},
   "outputs": [],
   "source": []
  }
 ],
 "metadata": {
  "kernelspec": {
   "display_name": "Python 3",
   "language": "python",
   "name": "python3"
  },
  "language_info": {
   "codemirror_mode": {
    "name": "ipython",
    "version": 3
   },
   "file_extension": ".py",
   "mimetype": "text/x-python",
   "name": "python",
   "nbconvert_exporter": "python",
   "pygments_lexer": "ipython3",
   "version": "3.6.5"
  }
 },
 "nbformat": 4,
 "nbformat_minor": 2
}
